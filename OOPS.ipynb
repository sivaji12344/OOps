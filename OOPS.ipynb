{
 "cells": [
  {
   "cell_type": "code",
   "execution_count": 1,
   "id": "ceb32f50",
   "metadata": {},
   "outputs": [
    {
     "name": "stdout",
     "output_type": "stream",
     "text": [
      "4134711838987085478833841242112000\n"
     ]
    }
   ],
   "source": [
    "def int_multi(lst):\n",
    "    M=1\n",
    "    ls=[]\n",
    "    for i in lst:\n",
    "        if type(i)==list:\n",
    "            ls+=i\n",
    "        elif type(i)==tuple:\n",
    "            ls+=list(i)\n",
    "        elif type(i)==set:\n",
    "            ls+=list(i)\n",
    "        elif type(i)==int:\n",
    "             ls+=[i]    \n",
    "        elif type(i)==dict:\n",
    "            resultList1 = list(i.keys())\n",
    "            resultList2 = list(i.values())\n",
    "            for j in resultList2:\n",
    "                if type(j)==list:\n",
    "                    ls+=j\n",
    "                if type(j)==tuple:\n",
    "                    ls+=list(j)                    \n",
    "                if type(j)==int:\n",
    "                    ls+=[j]\n",
    "        \n",
    "            ls=ls+resultList1\n",
    "    for x in ls:\n",
    "        if type(x)==int:\n",
    "            M=M*x    \n",
    "    \n",
    "    return M\n",
    "                \n",
    "print(int_multi([1,2,3,4, [44,55,66, True], False, (34,56,78,89,34), {1,2,3,3,2,1}, {1:34, \"key2\": [55, 67, 78, 89], 4: (45,\n",
    "22, 61, 34)}, [56, 'data science'], 'Machine Learning']))                   \n",
    "  "
   ]
  },
  {
   "cell_type": "code",
   "execution_count": 3,
   "id": "4ea65421",
   "metadata": {},
   "outputs": [],
   "source": [
    "from cryptography.fernet import Fernet"
   ]
  },
  {
   "cell_type": "code",
   "execution_count": 27,
   "id": "1a6145db",
   "metadata": {},
   "outputs": [
    {
     "data": {
      "text/plain": [
       "'9$23z1420$2015$y5x15135$z$4z20z$19x95142091920.'"
      ]
     },
     "execution_count": 27,
     "metadata": {},
     "output_type": "execute_result"
    }
   ],
   "source": [
    "def encrypt_string(stringToEncrypt):\n",
    "    encodedString=''    \n",
    "    keys = {\n",
    "\n",
    "        'a' : 'z', 'b' : 'y', 'c' : 'x', 'd' : 4,\n",
    "\n",
    "        'e' : 5, 'f' : 6, 'g' : 7, 'h' : 8,\n",
    "\n",
    "        'i' : 9, 'j' : 10, 'k' : 11, 'l' : 12,\n",
    "\n",
    "        'm' : 13, 'n' : 14, 'o' : 15, 'p' : 16,\n",
    "\n",
    "        'q' : 17, 'r' : 18, 's' : 19, 't' : 20,\n",
    "\n",
    "        'u' : 21, 'v' : 22, 'w' : 23, 'x' : 24,\n",
    "\n",
    "        'y' : 25, 'z' :26, ' ' : '$', 'A' : 101,\n",
    "\n",
    "        'B' : 102, 'C' : 103, 'D' : 103, 'E' : 104,\n",
    "\n",
    "        'F' : 105, 'G' : 106, 'H' : 107, 'I' : 108,\n",
    "\n",
    "        'J' : 109, 'K' : 110, 'L' : 111, 'M' : 112,\n",
    "\n",
    "        'N' : 113, 'O' : 114, 'P' : 115, 'Q' : 116,\n",
    "\n",
    "        'R' : 117, 'S' : 118, 'T' : 119, 'U' : 120,\n",
    "\n",
    "        'V' : 121, 'W' : 122, 'X' : 123, 'Y' : 124,\n",
    "\n",
    "        'Z' : 125, '.' : '.', '/' : 201, '\\\\' : 202,\n",
    "\n",
    "        '$' : 203, '#' : 204, '@' : 205, '%' : 206,\n",
    "\n",
    "        '^' : 207, '*' : 208, '(' : 209, ')' : 210,\n",
    "\n",
    "        '_' : 211, '-' : 212, '=' : 213, '+' : 214,\n",
    "\n",
    "        '>' : 215, '<' : 216, '?' : 217, ';' : 218,\n",
    "\n",
    "        ':' : 219, '\\'' : 220, '\\\"' : 221, '{' : 222,\n",
    "\n",
    "        '}' : 223, '[' : 224, ']' : 225, '|' : 226,\n",
    "\n",
    "        '`' : 227, '~' : 228, '!' : 229, '0' : 300,\n",
    "\n",
    "        '1' : 301, '2' : 302, '3' : 303, '4' : 304,\n",
    "\n",
    "        '5' : 306, '6' : 307, '7' : 308, '8' : 309,\n",
    "\n",
    "        '9' : 310\n",
    "      }\n",
    "    for j in stringToEncrypt.lower():\n",
    "        value=keys[j]\n",
    "        encodedString+=''.join(str(value))\n",
    "    return encodedString\n",
    "strs='I want to become a Data Scientist.'\n",
    "encrypt_string(strs)"
   ]
  },
  {
   "cell_type": "code",
   "execution_count": null,
   "id": "9c2a0dc3",
   "metadata": {},
   "outputs": [],
   "source": []
  }
 ],
 "metadata": {
  "kernelspec": {
   "display_name": "Python 3 (ipykernel)",
   "language": "python",
   "name": "python3"
  },
  "language_info": {
   "codemirror_mode": {
    "name": "ipython",
    "version": 3
   },
   "file_extension": ".py",
   "mimetype": "text/x-python",
   "name": "python",
   "nbconvert_exporter": "python",
   "pygments_lexer": "ipython3",
   "version": "3.9.12"
  }
 },
 "nbformat": 4,
 "nbformat_minor": 5
}
